{
 "cells": [
  {
   "cell_type": "markdown",
   "metadata": {},
   "source": [
    "# [House Prices: Advanced Regression Techniques](https://www.kaggle.com/c/house-prices-advanced-regression-techniques)"
   ]
  },
  {
   "cell_type": "markdown",
   "metadata": {},
   "source": [
    "Predict sales prices and practice feature engineering, RFs, and gradient boosting"
   ]
  },
  {
   "cell_type": "markdown",
   "metadata": {},
   "source": [
    "## Individual assignment\n",
    "### Objective\n",
    "\n",
    "- The result is to show your technical skill and knowledge directly for our customers\n",
    "- In other words, it will be handed over and confirmed by clients and judged to work with you or not\n",
    "- Reporting quality to be maximized is very important.\n",
    "\n",
    "### Mandatory on the report\n",
    "\n",
    "- Report should be submitted as both a Jupyter Notebook and an exported PDF file\n",
    "- ID: A1910 and submission date should be added as a separate cell at the top of the notebook.\n",
    "- abstract / summary of your report\n",
    "- Data investigation and pre-processing (w/ source code) \n",
    "    - To be described how and why the process is needed\n",
    "- Chosen NN model and algorithm with reason (w/ source code) \n",
    "    - You have to use at least one DNN model\n",
    "- Evaluation and hyper-parameter tuning (w/ source code) \n",
    "    - If optimized parameters, explain why and how\n",
    "- Results\n",
    "- Discussion and Conclusions\n",
    "- Acknowledgements and references if there are\n",
    "\n",
    "## Points for development\n",
    "### Data preprocessing\n",
    "- data cleansing, missing data processing, outliers processing\n",
    "- data normalization / standardization \n",
    "    - e.g. z-score, min-max and so on\n",
    "    \n",
    "### Decision of algorithm and model\n",
    "- Appropriate algorithm for the problem\n",
    "- Number of layers, regularization, dropout, batch normalization and so on\n",
    "\n",
    "### Decision and optimization of hyper parameters\n",
    "- Epochs, activation function, optimizer, learning rate, number of neurons and so on\n",
    "    - e.g. to optimize parameters : grid search, random search, bayesian optimization and so on \n",
    "    \n",
    "### Imbalanced data handling (optional for skewed data set)\n",
    "- Under-sampling, Over-sampling, Hybrid Methods \n",
    "    - e.g. SMOTE and so on"
   ]
  },
  {
   "cell_type": "code",
   "execution_count": null,
   "metadata": {},
   "outputs": [],
   "source": []
  }
 ],
 "metadata": {
  "kernelspec": {
   "display_name": "Python 3",
   "language": "python",
   "name": "python3"
  },
  "language_info": {
   "codemirror_mode": {
    "name": "ipython",
    "version": 3
   },
   "file_extension": ".py",
   "mimetype": "text/x-python",
   "name": "python",
   "nbconvert_exporter": "python",
   "pygments_lexer": "ipython3",
   "version": "3.7.4"
  }
 },
 "nbformat": 4,
 "nbformat_minor": 2
}
