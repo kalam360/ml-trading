{
 "cells": [
  {
   "cell_type": "markdown",
   "metadata": {},
   "source": [
    "#### Analysing features and Model "
   ]
  },
  {
   "cell_type": "markdown",
   "metadata": {},
   "source": [
    "The answer to the question of how we should trade can be complex. But for this project I can see a strategy where I would call the ML algorithm at certain times when the indicators are of strong buy or strong sell. Like:\n",
    "\n",
    "1. Trend\n",
    "2. Moving Average Cross-over\n",
    "3. Stochastic \n",
    "4. Candlesticks\n",
    "5. ADX\n",
    "6. Vollume"
   ]
  },
  {
   "cell_type": "markdown",
   "metadata": {},
   "source": [
    "Next we would get the prediction of the price, and see if the future is suitable for trading. or is it just a local buy or sell indication. "
   ]
  },
  {
   "cell_type": "code",
   "execution_count": null,
   "metadata": {},
   "outputs": [],
   "source": []
  }
 ],
 "metadata": {
  "kernelspec": {
   "display_name": "Python 3",
   "language": "python",
   "name": "python3"
  },
  "language_info": {
   "codemirror_mode": {
    "name": "ipython",
    "version": 3
   },
   "file_extension": ".py",
   "mimetype": "text/x-python",
   "name": "python",
   "nbconvert_exporter": "python",
   "pygments_lexer": "ipython3",
   "version": "3.7.4"
  }
 },
 "nbformat": 4,
 "nbformat_minor": 2
}
