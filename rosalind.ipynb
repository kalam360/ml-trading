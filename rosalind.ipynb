{
 "cells": [
  {
   "cell_type": "code",
   "execution_count": 1,
   "metadata": {},
   "outputs": [],
   "source": [
    "import pandas as pd"
   ]
  },
  {
   "cell_type": "code",
   "execution_count": 11,
   "metadata": {},
   "outputs": [
    {
     "data": {
      "text/plain": [
       "[      ID                                Title  Solved By  Correct Ratio\n",
       " 0   FIBO                    Fibonacci Numbers       4665            NaN\n",
       " 1   BINS                        Binary Search       2176            NaN\n",
       " 2    DEG                         Degree Array       1762            NaN\n",
       " 3    INS                       Insertion Sort       1842            NaN\n",
       " 4   DDEG                  Double-Degree Array       1391            NaN\n",
       " 5    MAJ                     Majority Element       1433            NaN\n",
       " 6    MER              Merge Two Sorted Arrays       1501            NaN\n",
       " 7   2SUM                                 2SUM        983            NaN\n",
       " 8    BFS                 Breadth-First Search        817            NaN\n",
       " 9     CC                 Connected Components        795            NaN\n",
       " 10   HEA                      Building a Heap        618            NaN\n",
       " 11    MS                           Merge Sort       1013            NaN\n",
       " 12   PAR                      2-Way Partition        752            NaN\n",
       " 13  3SUM                                 3SUM        581            NaN\n",
       " 14   BIP                Testing Bipartiteness        456            NaN\n",
       " 15   DAG                   Testing Acyclicity        458            NaN\n",
       " 16   DIJ                 Dijkstra's Algorithm        448            NaN\n",
       " 17    HS                            Heap Sort        503            NaN\n",
       " 18   INV                  Counting Inversions        561            NaN\n",
       " 19  PAR3                      3-Way Partition        611            NaN\n",
       " 20    SQ                    Square in a Graph        318            NaN\n",
       " 21    BF               Bellman-Ford Algorithm        337            NaN\n",
       " 22   CTE  Shortest Cycle Through a Given Edge        239            NaN\n",
       " 23   MED                               Median        507            NaN\n",
       " 24    PS                         Partial Sort        425            NaN\n",
       " 25    TS                  Topological Sorting        360            NaN\n",
       " 26  HDAG              Hamiltonian Path in DAG        243            NaN\n",
       " 27   NWC                Negative Weight Cycle        260            NaN\n",
       " 28    QS                           Quick Sort        434            NaN\n",
       " 29   SCC        Strongly Connected Components        255            NaN\n",
       " 30  2SAT                     2-Satisfiability        144            NaN\n",
       " 31    GS                         General Sink        196            NaN\n",
       " 32    SC                 Semi-Connected Graph        192            NaN\n",
       " 33  SDAG                Shortest Paths in DAG        214            NaN]"
      ]
     },
     "execution_count": 11,
     "metadata": {},
     "output_type": "execute_result"
    }
   ],
   "source": [
    "pd.read_html(\"http://rosalind.info/problems/list-view/?location=algorithmic-heights\")"
   ]
  },
  {
   "cell_type": "code",
   "execution_count": 12,
   "metadata": {},
   "outputs": [
    {
     "data": {
      "text/plain": [
       "[       ID                                    Title  Solved By  Correct Ratio\n",
       " 0     DNA                 Counting DNA Nucleotides      42179            NaN\n",
       " 1     RNA                Transcribing DNA into RNA      37599            NaN\n",
       " 2    REVC            Complementing a Strand of DNA      34015            NaN\n",
       " 3     FIB         Rabbits and Recurrence Relations      19508            NaN\n",
       " 4      GC                     Computing GC Content      19758            NaN\n",
       " ..    ...                                      ...        ...            ...\n",
       " 100  SMGB                     Semiglobal Alignment        180            NaN\n",
       " 101  KSIM               Finding All Similar Motifs         78            NaN\n",
       " 102  LAFF  Local Alignment with Affine Gap Penalty        176            NaN\n",
       " 103  OSYM          Isolating Symbols in Alignments        127            NaN\n",
       " 104  RSUB      Identifying Reversing Substitutions         94            NaN\n",
       " \n",
       " [105 rows x 4 columns]]"
      ]
     },
     "execution_count": 12,
     "metadata": {},
     "output_type": "execute_result"
    }
   ],
   "source": [
    "pd.read_html(\"http://rosalind.info/problems/list-view/\")"
   ]
  },
  {
   "cell_type": "code",
   "execution_count": 13,
   "metadata": {},
   "outputs": [
    {
     "data": {
      "text/plain": [
       "[      ID                                      Title  Solved By  Correct Ratio\n",
       " 0    INI  Introduction to the Bioinformatics Armory       4941            NaN\n",
       " 1   DBPR          Introduction to Protein Databases       2705            NaN\n",
       " 2    GBK                       GenBank Introduction       1754            NaN\n",
       " 3   FRMT                               Data Formats       1732            NaN\n",
       " 4   MEME                        New Motif Discovery        752            NaN\n",
       " 5   NEED                  Pairwise Global Alignment        923            NaN\n",
       " 6   TFSQ                  FASTQ format introduction       1088            NaN\n",
       " 7   PHRE                  Read Quality Distribution        665            NaN\n",
       " 8   PTRA                        Protein Translation        912            NaN\n",
       " 9   FILT                 Read Filtration by Quality        513            NaN\n",
       " 10  RVCO              Complementing a Strand of DNA        784            NaN\n",
       " 11  SUBO                 Suboptimal Local Alignment        316            NaN\n",
       " 12  BPHR                  Base Quality Distribution        374            NaN\n",
       " 13  CLUS                  Global Multiple Alignment        286            NaN\n",
       " 14  ORFR                    Finding Genes with ORFs        520            NaN\n",
       " 15  BFIL                 Base Filtration by Quality        328            NaN]"
      ]
     },
     "execution_count": 13,
     "metadata": {},
     "output_type": "execute_result"
    }
   ],
   "source": [
    "pd.read_html(\"http://rosalind.info/problems/list-view/?location=bioinformatics-armory\")"
   ]
  },
  {
   "cell_type": "code",
   "execution_count": 14,
   "metadata": {},
   "outputs": [
    {
     "data": {
      "text/plain": [
       "[        ID                                              Title  Solved By  \\\n",
       " 0    BA10A           Compute the Probability of a Hidden Path        507   \n",
       " 1    BA10B  Compute the Probability of an Outcome Given a ...        430   \n",
       " 2    BA10C                    Implement the Viterbi Algorithm        260   \n",
       " 3    BA10D  Compute the Probability of a String Emitted by...        220   \n",
       " 4    BA10E                            Construct a Profile HMM        135   \n",
       " ..     ...                                                ...        ...   \n",
       " 119   BA9N  Find All Occurrences of a Collection of Patter...        161   \n",
       " 120   BA9O  Find All Approximate Occurrences of a Collecti...        131   \n",
       " 121   BA9P                             Implement TreeColoring         65   \n",
       " 122   BA9Q     Construct the Partial Suffix Array of a String        128   \n",
       " 123   BA9R        Construct a Suffix Tree from a Suffix Array         94   \n",
       " \n",
       "      Correct Ratio  \n",
       " 0              NaN  \n",
       " 1              NaN  \n",
       " 2              NaN  \n",
       " 3              NaN  \n",
       " 4              NaN  \n",
       " ..             ...  \n",
       " 119            NaN  \n",
       " 120            NaN  \n",
       " 121            NaN  \n",
       " 122            NaN  \n",
       " 123            NaN  \n",
       " \n",
       " [124 rows x 4 columns]]"
      ]
     },
     "execution_count": 14,
     "metadata": {},
     "output_type": "execute_result"
    }
   ],
   "source": [
    "pd.read_html(\"http://rosalind.info/problems/list-view/?location=bioinformatics-textbook-track\")"
   ]
  },
  {
   "cell_type": "code",
   "execution_count": 15,
   "metadata": {},
   "outputs": [
    {
     "data": {
      "text/plain": [
       "[      ID                                Title  Solved By  Correct Ratio\n",
       " 0   FIBO                    Fibonacci Numbers       4665            NaN\n",
       " 1   BINS                        Binary Search       2176            NaN\n",
       " 2    DEG                         Degree Array       1762            NaN\n",
       " 3    INS                       Insertion Sort       1842            NaN\n",
       " 4   DDEG                  Double-Degree Array       1391            NaN\n",
       " 5    MAJ                     Majority Element       1433            NaN\n",
       " 6    MER              Merge Two Sorted Arrays       1501            NaN\n",
       " 7   2SUM                                 2SUM        983            NaN\n",
       " 8    BFS                 Breadth-First Search        817            NaN\n",
       " 9     CC                 Connected Components        795            NaN\n",
       " 10   HEA                      Building a Heap        618            NaN\n",
       " 11    MS                           Merge Sort       1013            NaN\n",
       " 12   PAR                      2-Way Partition        752            NaN\n",
       " 13  3SUM                                 3SUM        581            NaN\n",
       " 14   BIP                Testing Bipartiteness        456            NaN\n",
       " 15   DAG                   Testing Acyclicity        458            NaN\n",
       " 16   DIJ                 Dijkstra's Algorithm        448            NaN\n",
       " 17    HS                            Heap Sort        503            NaN\n",
       " 18   INV                  Counting Inversions        561            NaN\n",
       " 19  PAR3                      3-Way Partition        611            NaN\n",
       " 20    SQ                    Square in a Graph        318            NaN\n",
       " 21    BF               Bellman-Ford Algorithm        337            NaN\n",
       " 22   CTE  Shortest Cycle Through a Given Edge        239            NaN\n",
       " 23   MED                               Median        507            NaN\n",
       " 24    PS                         Partial Sort        425            NaN\n",
       " 25    TS                  Topological Sorting        360            NaN\n",
       " 26  HDAG              Hamiltonian Path in DAG        243            NaN\n",
       " 27   NWC                Negative Weight Cycle        260            NaN\n",
       " 28    QS                           Quick Sort        434            NaN\n",
       " 29   SCC        Strongly Connected Components        255            NaN\n",
       " 30  2SAT                     2-Satisfiability        144            NaN\n",
       " 31    GS                         General Sink        196            NaN\n",
       " 32    SC                 Semi-Connected Graph        192            NaN\n",
       " 33  SDAG                Shortest Paths in DAG        214            NaN]"
      ]
     },
     "execution_count": 15,
     "metadata": {},
     "output_type": "execute_result"
    }
   ],
   "source": [
    "pd.read_html(\"http://rosalind.info/problems/list-view/?location=algorithmic-heights\")"
   ]
  },
  {
   "cell_type": "code",
   "execution_count": 19,
   "metadata": {},
   "outputs": [
    {
     "data": {
      "text/plain": [
       "55.4"
      ]
     },
     "execution_count": 19,
     "metadata": {},
     "output_type": "execute_result"
    }
   ],
   "source": [
    "(33+124+105+15)/5"
   ]
  },
  {
   "cell_type": "code",
   "execution_count": null,
   "metadata": {},
   "outputs": [],
   "source": []
  }
 ],
 "metadata": {
  "kernelspec": {
   "display_name": "Python 3",
   "language": "python",
   "name": "python3"
  },
  "language_info": {
   "codemirror_mode": {
    "name": "ipython",
    "version": 3
   },
   "file_extension": ".py",
   "mimetype": "text/x-python",
   "name": "python",
   "nbconvert_exporter": "python",
   "pygments_lexer": "ipython3",
   "version": "3.7.4"
  }
 },
 "nbformat": 4,
 "nbformat_minor": 2
}
